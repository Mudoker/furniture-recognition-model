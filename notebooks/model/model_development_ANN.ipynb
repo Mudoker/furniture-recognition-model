{
 "cells": [
  {
   "cell_type": "markdown",
   "metadata": {},
   "source": [
    "<center>\n",
    "\n",
    "### COSC2753 - Machine Learning\n",
    "\n",
    "# **Model Development - Artificial Neural Network (ANN)**\n",
    "\n",
    "<center>────────────────────────────</center>\n",
    "&nbsp;\n"
   ]
  },
  {
   "cell_type": "markdown",
   "metadata": {},
   "source": [
    "# I. Introduction\n",
    "\n",
    "In this notebook, we will concentrate on the development of an Artificial Neural Network (ANN) model. This process will involve training the ANN model on preprocessed image data and optimizing its performance through hyperparameter tuning. Specifically, we will perform the following steps:\n",
    "\n",
    "- **Training:** We will train the selected ANN model using the preprocessed image data. This involves feeding the data into the model and adjusting its parameters to minimize the loss function.\n",
    "\n",
    "- **Hyperparameter Tuning:** We will explore different combinations of hyperparameters to optimize the performance of our ANN model. This may include tuning parameters such as learning rate, batch size, and regularization strength.\n",
    "\n",
    "By the end of this notebook, we will have developed a well-trained ANN model capable of accurately predicting labels for new images in the dataset. This model will serve as a foundation for further analysis and applications in image recognition tasks.\n"
   ]
  }
 ],
 "metadata": {
  "language_info": {
   "name": "python"
  }
 },
 "nbformat": 4,
 "nbformat_minor": 2
}
