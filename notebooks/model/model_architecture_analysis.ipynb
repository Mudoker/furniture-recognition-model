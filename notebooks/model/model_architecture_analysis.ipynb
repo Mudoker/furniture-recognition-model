{
 "cells": [
  {
   "cell_type": "markdown",
   "metadata": {},
   "source": [
    "<center>\n",
    "\n",
    "### COSC2753 - Machine Learning\n",
    "\n",
    "# **Model Architecture Analysis**\n",
    "\n",
    "<center>────────────────────────────</center>\n",
    "&nbsp;\n"
   ]
  },
  {
   "cell_type": "markdown",
   "metadata": {},
   "source": [
    "# I. Introduction\n",
    "\n",
    "In this notebook, we will analyze appropriate model architectures based on the nature of our dataset and the problem we are trying to solve.\n",
    "\n",
    "- **Convolutional Neural Network (CNN):** \n",
    "\n",
    "- **Artificial Neural Network (ANN):** \n",
    "\n",
    "By the end of this notebook, we will have identified suitable model architectures for our dataset and problem, laying the groundwork for further experimentation and model development.\n"
   ]
  }
 ],
 "metadata": {
  "language_info": {
   "name": "python"
  }
 },
 "nbformat": 4,
 "nbformat_minor": 2
}
