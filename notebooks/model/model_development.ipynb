{
 "cells": [
  {
   "cell_type": "markdown",
   "metadata": {},
   "source": [
    "<center>\n",
    "\n",
    "### COSC2753 - Machine Learning\n",
    "\n",
    "# **Model Development**\n",
    "\n",
    "<center>────────────────────────────</center>\n",
    "&nbsp;\n"
   ]
  },
  {
   "cell_type": "markdown",
   "metadata": {},
   "source": [
    "# I. Introduction\n",
    "\n",
    "In this notebook, we will conduct model development for image datasets that have been pre-processed in the last step. This process will involve selecting an appropriate model architecture, training it on the preprocessed image data, and optimizing its performance through hyperparameter tuning. To be more specific, we will perform the following steps:\n",
    "\n",
    "- **Model Type Selection:** We will choose appropriate model types based on the nature of our dataset and the problem we are trying to solve.\n",
    "\n",
    "- **Training:** We will train the selected model using the preprocessed image data. This involves feeding the data into the model and adjusting its parameters to minimize the loss function.\n",
    "\n",
    "- **Convolutional Neural Network (CNN):** We will implement a CNN model architecture tailored for image data.\n",
    "\n",
    "- **Artificial Neural Network (ANN):** Additionally, we will explore the use of ANN for comparison and experimentation.\n",
    "\n",
    "- **Hyperparameter Tuning:** We will explore different combinations of hyperparameters to optimize the performance of our models. This may include parameters such as learning rate, batch size, and regularization strength.\n",
    "\n",
    "By the end of this notebook, we will have developed machine learning models capable of accurately predicting labels for new images in the dataset. These models will serve as a foundation for further analysis and applications in image recognition tasks.\n"
   ]
  }
 ],
 "metadata": {
  "language_info": {
   "name": "python"
  }
 },
 "nbformat": 4,
 "nbformat_minor": 2
}
