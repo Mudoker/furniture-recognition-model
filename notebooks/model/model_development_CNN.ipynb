{
 "cells": [
  {
   "cell_type": "markdown",
   "metadata": {},
   "source": [
    "<center>\n",
    "\n",
    "### COSC2753 - Machine Learning\n",
    "\n",
    "# **Model Development - Convolutional Neural Network (CNN)**\n",
    "\n",
    "<center>────────────────────────────</center>\n",
    "&nbsp;\n"
   ]
  }
 ],
 "metadata": {
  "language_info": {
   "name": "python"
  }
 },
 "nbformat": 4,
 "nbformat_minor": 2
}
