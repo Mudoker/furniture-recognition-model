{
 "cells": [
  {
   "cell_type": "markdown",
   "metadata": {},
   "source": [
    "<center>\n",
    "\n",
    "### COSC2753 - Machine Learning\n",
    "\n",
    "# **Task Summary**\n",
    "\n",
    "<center>────────────────────────────</center>\n",
    "&nbsp;"
   ]
  },
  {
   "cell_type": "markdown",
   "metadata": {},
   "source": [
    "### **Import Packages**"
   ]
  },
  {
   "cell_type": "code",
   "execution_count": 1,
   "metadata": {},
   "outputs": [
    {
     "name": "stdout",
     "output_type": "stream",
     "text": [
      ">>> os imported\n",
      ">>> sys imported\n",
      ">>> importlib imported\n",
      ">>> inspect imported\n",
      ">>> pandas imported as pd\n",
      ">>> numpy imported as np\n",
      ">>> matplotlib.pyplot imported as plt\n",
      ">>> seaborn imported as sns\n",
      ">>> tabulate imported\n",
      ">>> scripts.leon imported as leon\n",
      ">>> scripts.constants imported as const\n",
      ">>> scripts.styler imported as styler\n"
     ]
    },
    {
     "name": "stderr",
     "output_type": "stream",
     "text": [
      "2024-05-21 12:46:42.030530: E external/local_xla/xla/stream_executor/cuda/cuda_dnn.cc:9261] Unable to register cuDNN factory: Attempting to register factory for plugin cuDNN when one has already been registered\n",
      "2024-05-21 12:46:42.030594: E external/local_xla/xla/stream_executor/cuda/cuda_fft.cc:607] Unable to register cuFFT factory: Attempting to register factory for plugin cuFFT when one has already been registered\n",
      "2024-05-21 12:46:42.097479: E external/local_xla/xla/stream_executor/cuda/cuda_blas.cc:1515] Unable to register cuBLAS factory: Attempting to register factory for plugin cuBLAS when one has already been registered\n",
      "2024-05-21 12:46:42.225355: I tensorflow/core/platform/cpu_feature_guard.cc:182] This TensorFlow binary is optimized to use available CPU instructions in performance-critical operations.\n",
      "To enable the following instructions: AVX2 FMA, in other operations, rebuild TensorFlow with the appropriate compiler flags.\n",
      "2024-05-21 12:46:43.453317: W tensorflow/compiler/tf2tensorrt/utils/py_utils.cc:38] TF-TRT Warning: Could not find TensorRT\n"
     ]
    },
    {
     "name": "stdout",
     "output_type": "stream",
     "text": [
      ">>> tensorflow imported as tf\n"
     ]
    }
   ],
   "source": [
    "# Base configuration for all scripts\n",
    "import sys\n",
    "import importlib\n",
    "\n",
    "sys.path.append(\"../\")\n",
    "\n",
    "modules_to_reload = [\n",
    "    \"scripts.leon\",\n",
    "    \"scripts.styler\",\n",
    "    \"scripts.utils\",\n",
    "    \"scripts.constants\",\n",
    "]\n",
    "[importlib.reload(sys.modules[m]) for m in modules_to_reload if m in sys.modules]\n",
    "\n",
    "# Import user-defined scripts\n",
    "from scripts.utils import Utils\n",
    "\n",
    "Utils.import_modules()"
   ]
  },
  {
   "cell_type": "markdown",
   "metadata": {},
   "source": [
    "###  **Data Loading and Preprocessing**"
   ]
  },
  {
   "cell_type": "code",
   "execution_count": null,
   "metadata": {},
   "outputs": [],
   "source": [
    "# Display some images with their predictions\n",
    "def display_predictions(generator, model, num_images=10):\n",
    "    # Get a batch of data\n",
    "    x_batch, y_batch = next(generator)\n",
    "\n",
    "    # Predict the classes\n",
    "    predictions = model.predict(x_batch)\n",
    "    y_pred = np.argmax(predictions, axis=1)\n",
    "    y_true = np.argmax(y_batch, axis=1)\n",
    "\n",
    "    num_rows = num_images // 5 + (\n",
    "        1 if num_images % 5 != 0 else 0\n",
    "    )  # Calculate the number of rows needed\n",
    "    plt.figure(figsize=(20, 4 * num_rows))  # Set the figure size\n",
    "\n",
    "    for i in range(num_images):\n",
    "        plt.subplot(num_rows, min(num_images, 5), i + 1)\n",
    "        plt.imshow(x_batch[i])\n",
    "\n",
    "        # Compare individual elements of y_true and y_pred\n",
    "        if y_true[i] == y_pred[i]:\n",
    "            color = \"green\"\n",
    "        else:\n",
    "            color = \"red\"\n",
    "\n",
    "        label_true = labels[y_true[i]]\n",
    "        label_pred = labels[y_pred[i]]\n",
    "\n",
    "        plt.title(f\"True: {label_true}\\nPred: {label_pred}\", color=color)\n",
    "        plt.axis(\"off\")\n",
    "    plt.show()\n",
    "\n",
    "\n",
    "display_predictions(test_dataset, cnn, num_images=32)"
   ]
  },
  {
   "cell_type": "markdown",
   "metadata": {},
   "source": [
    "### **Task 1: Furniture Category Classification**"
   ]
  },
  {
   "cell_type": "code",
   "execution_count": null,
   "metadata": {},
   "outputs": [],
   "source": [
    "cnn = tf.keras.models.load_model(\"./model_development/cache_cnn/cnn_best.h5\")\n",
    "display_predictions(test_dataset, cnn, num_images=32)"
   ]
  },
  {
   "cell_type": "markdown",
   "metadata": {},
   "source": [
    "### **Task 2: Recommend Similar Furniture**"
   ]
  },
  {
   "cell_type": "markdown",
   "metadata": {},
   "source": [
    "### **Task 3: Furniture Style Classification**"
   ]
  },
  {
   "cell_type": "code",
   "execution_count": null,
   "metadata": {},
   "outputs": [],
   "source": [
    "resnet34 = tf.keras.models.load_model(\"./model_development/cache_resnet/resnet_best\")\n",
    "display_predictions(test_dataset, resnet34, num_images=32)"
   ]
  },
  {
   "cell_type": "markdown",
   "metadata": {},
   "source": [
    "### **Conclusion**\n",
    "\n",
    "In conclusion, our proposed deep learning models demonstrate high accuracy in classifying furniture `category` and `style`, while the recommendation system effectively suggests visually similar items based on user input. Further enhancements to model performance can be achieved through the incorporation of additional data and refined hyperparameter tuning."
   ]
  }
 ],
 "metadata": {
  "kernelspec": {
   "display_name": "py31",
   "language": "python",
   "name": "python3"
  },
  "language_info": {
   "codemirror_mode": {
    "name": "ipython",
    "version": 3
   },
   "file_extension": ".py",
   "mimetype": "text/x-python",
   "name": "python",
   "nbconvert_exporter": "python",
   "pygments_lexer": "ipython3",
   "version": "3.11.9"
  }
 },
 "nbformat": 4,
 "nbformat_minor": 2
}
