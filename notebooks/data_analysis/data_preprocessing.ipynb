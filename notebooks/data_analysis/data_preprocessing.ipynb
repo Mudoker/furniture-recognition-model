{
 "cells": [
  {
   "cell_type": "markdown",
   "metadata": {},
   "source": [
    "<center>\n",
    "\n",
    "### COSC2753 - Machine Learning\n",
    "\n",
    "# **Data Preprocessing**\n",
    "\n",
    "<center>────────────────────────────</center>\n",
    "&nbsp"
   ]
  },
  {
   "cell_type": "markdown",
   "metadata": {},
   "source": [
    "# I. Introduction\n",
    "\n",
    "In this notebook, we will apply common data preprocessing techniques to the dataset, building on the analysis conducted during the *exploratory data analysis* (EDA) steps. Data preprocessing is essential in the machine learning pipeline as it helps clean, transform, and prepare the data for the model.\n",
    "\n",
    "The following preprocessing steps will be implemented:\n",
    "\n",
    "1. **Image Labeling**: Labels associated with each image will be extracted from the filenames and stored in a designated column within a Pandas DataFrame.\n",
    "   \n",
    "2. **Image Resizing**: All images will be resized to a uniform dimension, ensuring consistency across the dataset.\n",
    "\n",
    "3. **Data Augmentation**: The images are augmented to increase the size of the dataset and improve the model's generalization.\n",
    "   \n",
    "4. **Pixel Normalization**: The pixel values are normalized to a range of [`0`, `1`] to ensure that the model can learn effectively.\n",
    "   \n",
    "5. **Train-Test Split**: The dataset will be divided into training and testing sets. The training set will be used to train the model, while the testing set will be used to evaluate its performance on unseen data.\n"
   ]
  },
  {
   "cell_type": "markdown",
   "metadata": {},
   "source": [
    "# II. Project Setup"
   ]
  },
  {
   "cell_type": "markdown",
   "metadata": {},
   "source": [
    "## 1. Import Libraries"
   ]
  },
  {
   "cell_type": "code",
   "execution_count": 1,
   "metadata": {},
   "outputs": [],
   "source": [
    "# Import necessary packages\n",
    "import pandas as pd  # Data manipulation\n",
    "import sys  # System specific parameters and functions\n",
    "import importlib  # Importing modules\n",
    "import os\n",
    "\n",
    "# Reload modules\n",
    "sys.path.append(\"../../\")  # Root directory\n",
    "modules_to_reload = [\"scripts.leon\", \"scripts.styler\"]\n",
    "\n",
    "# Reload modules if they have been modified\n",
    "missing_modules = []\n",
    "\n",
    "for module_name in modules_to_reload:\n",
    "    if module_name in sys.modules:\n",
    "        importlib.reload(sys.modules[module_name])\n",
    "    else:\n",
    "        missing_modules.append(module_name)\n",
    "\n",
    "# Recache missing modules\n",
    "if missing_modules:\n",
    "    print(f\"Modules {missing_modules} not found. /nRecaching...\")\n",
    "\n",
    "# Import user-defined scripts\n",
    "from scripts.leon import Leon  # Leon class\n",
    "from scripts.styler import Styler  # Styler class\n",
    "\n",
    "# Configuration\n",
    "pd.set_option(\"display.max_columns\", None)\n",
    "pd.set_option(\"display.max_rows\", None)\n",
    "pd.set_option(\"display.precision\", 3)\n",
    "\n",
    "# Initialize objects\n",
    "leon = Leon()\n",
    "styler = Styler()"
   ]
  },
  {
   "cell_type": "markdown",
   "metadata": {},
   "source": [
    "## 2. Global Properties"
   ]
  },
  {
   "cell_type": "code",
   "execution_count": null,
   "metadata": {},
   "outputs": [],
   "source": [
    "# Define the base directory path\n",
    "raw_dir = \"../../data/raw/Furniture_Data/Furniture_Data/\""
   ]
  },
  {
   "cell_type": "markdown",
   "metadata": {},
   "source": [
    "# III. Data Preprocessing"
   ]
  },
  {
   "cell_type": "markdown",
   "metadata": {},
   "source": [
    "## 1. Invalid Data Handling"
   ]
  },
  {
   "cell_type": "markdown",
   "metadata": {},
   "source": [
    "As we conclude from the *exploratory data analysis* (EDA), there is a mismatch between the file format of `jpgD` and the other `jpg` files. Hence, to ensure that the data is consistent, we will change the file format of `jpgD` to `jpg`. Based on testing and observation, simply changing the file format from `jpgD` to `jpg` does not affect the image quality or integrity.\n",
    "\n",
    "This adjustment will help maintain consistency across the dataset and prevent any potential issues during the preprocessing and modeling stages."
   ]
  },
  {
   "cell_type": "code",
   "execution_count": null,
   "metadata": {},
   "outputs": [
    {
     "name": "stdout",
     "output_type": "stream",
     "text": [
      "c:\\Users\\huuqu\\Academic\\RMIT\\Machine Learning\\Group Assignment\\data\\raw\\Furniture_Data\\Furniture_Data\\dressers\\Farmhouse\\30826farmhouse-coffee-tables.jpgD\n",
      "File not found or has been renamed already.\n"
     ]
    }
   ],
   "source": [
    "# Original file path\n",
    "jpgd_path = \"../../data/raw/Furniture_Data/Furniture_Data/dressers/Farmhouse/30826farmhouse-coffee-tables.jpgD\"\n",
    "\n",
    "# Get the absolute path\n",
    "jpgd_path = os.path.abspath(jpgd_path)\n",
    "\n",
    "print (jpgd_path)\n",
    "# Check if the file exists\n",
    "if os.path.exists(jpgd_path):\n",
    "    # Get the directory and file name\n",
    "    directory, filename = os.path.split(jpgd_path)\n",
    "\n",
    "    # Remove the extra characters after \".jpg\" in the filename\n",
    "    new_filename = filename.split(\".jpg\")[0] + \".jpg\"\n",
    "\n",
    "    # Create the new file path\n",
    "    new_path = os.path.join(directory, new_filename)\n",
    "\n",
    "    # Rename the file\n",
    "    os.rename(jpgd_path, new_path)\n",
    "\n",
    "    print(f\"File renamed from '{jpgd_path}' to '{new_path}'\")\n",
    "else:\n",
    "    print(\"File not found or has been renamed already.\")"
   ]
  },
  {
   "cell_type": "markdown",
   "metadata": {},
   "source": [
    "## 2. Image Labeling"
   ]
  },
  {
   "cell_type": "markdown",
   "metadata": {},
   "source": [
    "In this step, we will process the image filenames to extract labels. These labels will be stored in a new column within our Pandas DataFrame. This process will enable us to conveniently access and manage the images using Pandas' built-in functionalities."
   ]
  },
  {
   "cell_type": "code",
   "execution_count": null,
   "metadata": {},
   "outputs": [],
   "source": [
    "df_train = leon.load_data_frame(raw_dir)"
   ]
  },
  {
   "cell_type": "code",
   "execution_count": null,
   "metadata": {},
   "outputs": [
    {
     "name": "stdout",
     "output_type": "stream",
     "text": [
      "<class 'pandas.core.frame.DataFrame'>\n",
      "RangeIndex: 81935 entries, 0 to 81934\n",
      "Data columns (total 5 columns):\n",
      " #   Column  Non-Null Count  Dtype \n",
      "---  ------  --------------  ----- \n",
      " 0   Path    81935 non-null  object\n",
      " 1   Class   81935 non-null  object\n",
      " 2   Style   81935 non-null  object\n",
      " 3   Width   81935 non-null  int64 \n",
      " 4   Height  81935 non-null  int64 \n",
      "dtypes: int64(2), object(3)\n",
      "memory usage: 3.1+ MB\n"
     ]
    }
   ],
   "source": [
    "df_train.info()"
   ]
  },
  {
   "cell_type": "code",
   "execution_count": null,
   "metadata": {},
   "outputs": [
    {
     "data": {
      "text/html": [
       "<div>\n",
       "<style scoped>\n",
       "    .dataframe tbody tr th:only-of-type {\n",
       "        vertical-align: middle;\n",
       "    }\n",
       "\n",
       "    .dataframe tbody tr th {\n",
       "        vertical-align: top;\n",
       "    }\n",
       "\n",
       "    .dataframe thead th {\n",
       "        text-align: right;\n",
       "    }\n",
       "</style>\n",
       "<table border=\"1\" class=\"dataframe\">\n",
       "  <thead>\n",
       "    <tr style=\"text-align: right;\">\n",
       "      <th></th>\n",
       "      <th>Path</th>\n",
       "      <th>Class</th>\n",
       "      <th>Style</th>\n",
       "      <th>Width</th>\n",
       "      <th>Height</th>\n",
       "    </tr>\n",
       "  </thead>\n",
       "  <tbody>\n",
       "    <tr>\n",
       "      <th>0</th>\n",
       "      <td>..\\..\\data\\raw\\Furniture_Data\\Furniture_Data\\b...</td>\n",
       "      <td>beds</td>\n",
       "      <td>Asian</td>\n",
       "      <td>256</td>\n",
       "      <td>256</td>\n",
       "    </tr>\n",
       "    <tr>\n",
       "      <th>1</th>\n",
       "      <td>..\\..\\data\\raw\\Furniture_Data\\Furniture_Data\\b...</td>\n",
       "      <td>beds</td>\n",
       "      <td>Asian</td>\n",
       "      <td>256</td>\n",
       "      <td>256</td>\n",
       "    </tr>\n",
       "    <tr>\n",
       "      <th>2</th>\n",
       "      <td>..\\..\\data\\raw\\Furniture_Data\\Furniture_Data\\b...</td>\n",
       "      <td>beds</td>\n",
       "      <td>Asian</td>\n",
       "      <td>256</td>\n",
       "      <td>256</td>\n",
       "    </tr>\n",
       "    <tr>\n",
       "      <th>3</th>\n",
       "      <td>..\\..\\data\\raw\\Furniture_Data\\Furniture_Data\\b...</td>\n",
       "      <td>beds</td>\n",
       "      <td>Asian</td>\n",
       "      <td>256</td>\n",
       "      <td>256</td>\n",
       "    </tr>\n",
       "    <tr>\n",
       "      <th>4</th>\n",
       "      <td>..\\..\\data\\raw\\Furniture_Data\\Furniture_Data\\b...</td>\n",
       "      <td>beds</td>\n",
       "      <td>Asian</td>\n",
       "      <td>256</td>\n",
       "      <td>256</td>\n",
       "    </tr>\n",
       "  </tbody>\n",
       "</table>\n",
       "</div>"
      ],
      "text/plain": [
       "                                                Path Class  Style  Width  \\\n",
       "0  ..\\..\\data\\raw\\Furniture_Data\\Furniture_Data\\b...  beds  Asian    256   \n",
       "1  ..\\..\\data\\raw\\Furniture_Data\\Furniture_Data\\b...  beds  Asian    256   \n",
       "2  ..\\..\\data\\raw\\Furniture_Data\\Furniture_Data\\b...  beds  Asian    256   \n",
       "3  ..\\..\\data\\raw\\Furniture_Data\\Furniture_Data\\b...  beds  Asian    256   \n",
       "4  ..\\..\\data\\raw\\Furniture_Data\\Furniture_Data\\b...  beds  Asian    256   \n",
       "\n",
       "   Height  \n",
       "0     256  \n",
       "1     256  \n",
       "2     256  \n",
       "3     256  \n",
       "4     256  "
      ]
     },
     "execution_count": 7,
     "metadata": {},
     "output_type": "execute_result"
    }
   ],
   "source": [
    "df_train.head()"
   ]
  },
  {
   "cell_type": "markdown",
   "metadata": {},
   "source": [
    "## 3. Image Resizing"
   ]
  },
  {
   "cell_type": "markdown",
   "metadata": {},
   "source": [
    "In this step, we will resize all images to a uniform dimension. This step is crucial as it ensures that all images have the same size, which is a requirement for most machine learning models.\n",
    "\n",
    "While there's no single \"**best**\" image size for deep learning applications, we will resize our images to `256x256` pixels. This choice balances the need to capture sufficient detail in the images with computational efficiency. Additionally, research by O. Rukundo (Lund University) suggests that `256x256` pixels is a common and effective size for processing medical images, particularly **LGE-MRI** images. \n",
    "\n",
    "Although our dataset is not related to medical imaging, we can leverage this insight of its reliability to guide our decision.\n",
    "\n",
    "[Link to Research](https://www.mdpi.com/2079-9292/12/4/985)"
   ]
  },
  {
   "cell_type": "code",
   "execution_count": null,
   "metadata": {},
   "outputs": [
    {
     "data": {
      "text/html": [
       "<div>\n",
       "<style scoped>\n",
       "    .dataframe tbody tr th:only-of-type {\n",
       "        vertical-align: middle;\n",
       "    }\n",
       "\n",
       "    .dataframe tbody tr th {\n",
       "        vertical-align: top;\n",
       "    }\n",
       "\n",
       "    .dataframe thead th {\n",
       "        text-align: right;\n",
       "    }\n",
       "</style>\n",
       "<table border=\"1\" class=\"dataframe\">\n",
       "  <thead>\n",
       "    <tr style=\"text-align: right;\">\n",
       "      <th></th>\n",
       "      <th>Path</th>\n",
       "      <th>Class</th>\n",
       "      <th>Style</th>\n",
       "      <th>Width</th>\n",
       "      <th>Height</th>\n",
       "    </tr>\n",
       "  </thead>\n",
       "  <tbody>\n",
       "    <tr>\n",
       "      <th>0</th>\n",
       "      <td>..\\..\\data\\raw\\Furniture_Data\\Furniture_Data\\b...</td>\n",
       "      <td>beds</td>\n",
       "      <td>Asian</td>\n",
       "      <td>256</td>\n",
       "      <td>256</td>\n",
       "    </tr>\n",
       "    <tr>\n",
       "      <th>1</th>\n",
       "      <td>..\\..\\data\\raw\\Furniture_Data\\Furniture_Data\\b...</td>\n",
       "      <td>beds</td>\n",
       "      <td>Asian</td>\n",
       "      <td>256</td>\n",
       "      <td>256</td>\n",
       "    </tr>\n",
       "    <tr>\n",
       "      <th>2</th>\n",
       "      <td>..\\..\\data\\raw\\Furniture_Data\\Furniture_Data\\b...</td>\n",
       "      <td>beds</td>\n",
       "      <td>Asian</td>\n",
       "      <td>256</td>\n",
       "      <td>256</td>\n",
       "    </tr>\n",
       "    <tr>\n",
       "      <th>3</th>\n",
       "      <td>..\\..\\data\\raw\\Furniture_Data\\Furniture_Data\\b...</td>\n",
       "      <td>beds</td>\n",
       "      <td>Asian</td>\n",
       "      <td>256</td>\n",
       "      <td>256</td>\n",
       "    </tr>\n",
       "    <tr>\n",
       "      <th>4</th>\n",
       "      <td>..\\..\\data\\raw\\Furniture_Data\\Furniture_Data\\b...</td>\n",
       "      <td>beds</td>\n",
       "      <td>Asian</td>\n",
       "      <td>256</td>\n",
       "      <td>256</td>\n",
       "    </tr>\n",
       "  </tbody>\n",
       "</table>\n",
       "</div>"
      ],
      "text/plain": [
       "                                                Path Class  Style  Width  \\\n",
       "0  ..\\..\\data\\raw\\Furniture_Data\\Furniture_Data\\b...  beds  Asian    256   \n",
       "1  ..\\..\\data\\raw\\Furniture_Data\\Furniture_Data\\b...  beds  Asian    256   \n",
       "2  ..\\..\\data\\raw\\Furniture_Data\\Furniture_Data\\b...  beds  Asian    256   \n",
       "3  ..\\..\\data\\raw\\Furniture_Data\\Furniture_Data\\b...  beds  Asian    256   \n",
       "4  ..\\..\\data\\raw\\Furniture_Data\\Furniture_Data\\b...  beds  Asian    256   \n",
       "\n",
       "   Height  \n",
       "0     256  \n",
       "1     256  \n",
       "2     256  \n",
       "3     256  \n",
       "4     256  "
      ]
     },
     "execution_count": 8,
     "metadata": {},
     "output_type": "execute_result"
    }
   ],
   "source": [
    "for img_path in df_train[\"Path\"]:\n",
    "    leon.resize_image(img_path, 256, 256)\n",
    "\n",
    "df_train.head()"
   ]
  },
  {
   "cell_type": "markdown",
   "metadata": {},
   "source": [
    "## 4. Data Augmentation"
   ]
  },
  {
   "cell_type": "markdown",
   "metadata": {},
   "source": [
    "Data augmentation is a technique used to artificially increase the size of the dataset by applying various transformations to the existing data. This technique is particularly useful when working with limited data, as it helps prevent overfitting and improves the model's generalization.\n",
    "\n",
    "For our image dataset, although the data is not severely limited, data augmentation can still be beneficial. We will apply the following transformations to augment our dataset:\n",
    "\n",
    "- **Random Rotation**: Rotates the image by a random angle within a specified range.\n",
    "- **Vertical Flip**: Flips the image vertically.\n",
    "- **Zoom**: Zooms into the image by a specified factor.\n",
    "\n",
    "The above transformations are commonly used and can help the model learn robust features from the data. [1]\n",
    "\n",
    "At the end of this step, we will have an augmented dataset that is approximately `3` times larger than the original dataset.\n",
    "\n",
    "[1] [Image Data Augmentation for Computer Vision](https://viso.ai/computer-vision/image-data-augmentation-for-computer-vision/#:~:text=Popular%20Types%20and%20Methods%20of%20Data%20Augmentation,-Early%20experiments%20showing&text=Geometric%20transformations%3A%20Augmenting%20image%20data,%2Fdown%2C%20or%20noise%20injection.)"
   ]
  },
  {
   "cell_type": "code",
   "execution_count": null,
   "metadata": {},
   "outputs": [
    {
     "name": "stdout",
     "output_type": "stream",
     "text": [
      "c:\\Users\\huuqu\\Academic\\RMIT\\Machine Learning\\Group Assignment\\data\\raw\\Furniture_Data\\Furniture_Data\\beds\\Asian\\output\n",
      "c:\\Users\\huuqu\\Academic\\RMIT\\Machine Learning\\Group Assignment\\data\\raw\\Furniture_Data\\Furniture_Data\\beds\\Beach\\output\n",
      "c:\\Users\\huuqu\\Academic\\RMIT\\Machine Learning\\Group Assignment\\data\\raw\\Furniture_Data\\Furniture_Data\\beds\\Contemporary\\output\n",
      "c:\\Users\\huuqu\\Academic\\RMIT\\Machine Learning\\Group Assignment\\data\\raw\\Furniture_Data\\Furniture_Data\\beds\\Craftsman\\output\n",
      "c:\\Users\\huuqu\\Academic\\RMIT\\Machine Learning\\Group Assignment\\data\\raw\\Furniture_Data\\Furniture_Data\\beds\\Eclectic\\output\n",
      "c:\\Users\\huuqu\\Academic\\RMIT\\Machine Learning\\Group Assignment\\data\\raw\\Furniture_Data\\Furniture_Data\\beds\\Farmhouse\\output\n",
      "c:\\Users\\huuqu\\Academic\\RMIT\\Machine Learning\\Group Assignment\\data\\raw\\Furniture_Data\\Furniture_Data\\beds\\Industrial\\output\n",
      "c:\\Users\\huuqu\\Academic\\RMIT\\Machine Learning\\Group Assignment\\data\\raw\\Furniture_Data\\Furniture_Data\\beds\\Mediterranean\\output\n",
      "c:\\Users\\huuqu\\Academic\\RMIT\\Machine Learning\\Group Assignment\\data\\raw\\Furniture_Data\\Furniture_Data\\beds\\Midcentury\\output\n",
      "c:\\Users\\huuqu\\Academic\\RMIT\\Machine Learning\\Group Assignment\\data\\raw\\Furniture_Data\\Furniture_Data\\beds\\Modern\\output\n",
      "c:\\Users\\huuqu\\Academic\\RMIT\\Machine Learning\\Group Assignment\\data\\raw\\Furniture_Data\\Furniture_Data\\beds\\Rustic\\output\n",
      "c:\\Users\\huuqu\\Academic\\RMIT\\Machine Learning\\Group Assignment\\data\\raw\\Furniture_Data\\Furniture_Data\\beds\\Scandinavian\\output\n",
      "c:\\Users\\huuqu\\Academic\\RMIT\\Machine Learning\\Group Assignment\\data\\raw\\Furniture_Data\\Furniture_Data\\beds\\Southwestern\\output\n",
      "c:\\Users\\huuqu\\Academic\\RMIT\\Machine Learning\\Group Assignment\\data\\raw\\Furniture_Data\\Furniture_Data\\beds\\Traditional\\output\n",
      "c:\\Users\\huuqu\\Academic\\RMIT\\Machine Learning\\Group Assignment\\data\\raw\\Furniture_Data\\Furniture_Data\\beds\\Transitional\\output\n",
      "c:\\Users\\huuqu\\Academic\\RMIT\\Machine Learning\\Group Assignment\\data\\raw\\Furniture_Data\\Furniture_Data\\beds\\Tropical\\output\n",
      "c:\\Users\\huuqu\\Academic\\RMIT\\Machine Learning\\Group Assignment\\data\\raw\\Furniture_Data\\Furniture_Data\\beds\\Victorian\\output\n",
      "c:\\Users\\huuqu\\Academic\\RMIT\\Machine Learning\\Group Assignment\\data\\raw\\Furniture_Data\\Furniture_Data\\chairs\\Asian\\output\n",
      "c:\\Users\\huuqu\\Academic\\RMIT\\Machine Learning\\Group Assignment\\data\\raw\\Furniture_Data\\Furniture_Data\\chairs\\Beach\\output\n",
      "c:\\Users\\huuqu\\Academic\\RMIT\\Machine Learning\\Group Assignment\\data\\raw\\Furniture_Data\\Furniture_Data\\chairs\\Contemporary\\output\n",
      "c:\\Users\\huuqu\\Academic\\RMIT\\Machine Learning\\Group Assignment\\data\\raw\\Furniture_Data\\Furniture_Data\\chairs\\Craftsman\\output\n",
      "c:\\Users\\huuqu\\Academic\\RMIT\\Machine Learning\\Group Assignment\\data\\raw\\Furniture_Data\\Furniture_Data\\chairs\\Eclectic\\output\n",
      "c:\\Users\\huuqu\\Academic\\RMIT\\Machine Learning\\Group Assignment\\data\\raw\\Furniture_Data\\Furniture_Data\\chairs\\Farmhouse\\output\n",
      "c:\\Users\\huuqu\\Academic\\RMIT\\Machine Learning\\Group Assignment\\data\\raw\\Furniture_Data\\Furniture_Data\\chairs\\Industrial\\output\n",
      "c:\\Users\\huuqu\\Academic\\RMIT\\Machine Learning\\Group Assignment\\data\\raw\\Furniture_Data\\Furniture_Data\\chairs\\Mediterranean\\output\n",
      "c:\\Users\\huuqu\\Academic\\RMIT\\Machine Learning\\Group Assignment\\data\\raw\\Furniture_Data\\Furniture_Data\\chairs\\Midcentury\\output\n",
      "c:\\Users\\huuqu\\Academic\\RMIT\\Machine Learning\\Group Assignment\\data\\raw\\Furniture_Data\\Furniture_Data\\chairs\\Modern\\output\n",
      "c:\\Users\\huuqu\\Academic\\RMIT\\Machine Learning\\Group Assignment\\data\\raw\\Furniture_Data\\Furniture_Data\\chairs\\Rustic\\output\n",
      "c:\\Users\\huuqu\\Academic\\RMIT\\Machine Learning\\Group Assignment\\data\\raw\\Furniture_Data\\Furniture_Data\\chairs\\Scandinavian\\output\n",
      "c:\\Users\\huuqu\\Academic\\RMIT\\Machine Learning\\Group Assignment\\data\\raw\\Furniture_Data\\Furniture_Data\\chairs\\Southwestern\\output\n",
      "c:\\Users\\huuqu\\Academic\\RMIT\\Machine Learning\\Group Assignment\\data\\raw\\Furniture_Data\\Furniture_Data\\chairs\\Traditional\\output\n",
      "c:\\Users\\huuqu\\Academic\\RMIT\\Machine Learning\\Group Assignment\\data\\raw\\Furniture_Data\\Furniture_Data\\chairs\\Transitional\\output\n",
      "c:\\Users\\huuqu\\Academic\\RMIT\\Machine Learning\\Group Assignment\\data\\raw\\Furniture_Data\\Furniture_Data\\chairs\\Tropical\\output\n",
      "c:\\Users\\huuqu\\Academic\\RMIT\\Machine Learning\\Group Assignment\\data\\raw\\Furniture_Data\\Furniture_Data\\chairs\\Victorian\\output\n",
      "c:\\Users\\huuqu\\Academic\\RMIT\\Machine Learning\\Group Assignment\\data\\raw\\Furniture_Data\\Furniture_Data\\dressers\\Asian\\output\n",
      "c:\\Users\\huuqu\\Academic\\RMIT\\Machine Learning\\Group Assignment\\data\\raw\\Furniture_Data\\Furniture_Data\\dressers\\Beach\\output\n",
      "c:\\Users\\huuqu\\Academic\\RMIT\\Machine Learning\\Group Assignment\\data\\raw\\Furniture_Data\\Furniture_Data\\dressers\\Contemporary\\output\n",
      "c:\\Users\\huuqu\\Academic\\RMIT\\Machine Learning\\Group Assignment\\data\\raw\\Furniture_Data\\Furniture_Data\\dressers\\Craftsman\\output\n",
      "c:\\Users\\huuqu\\Academic\\RMIT\\Machine Learning\\Group Assignment\\data\\raw\\Furniture_Data\\Furniture_Data\\dressers\\Eclectic\\output\n",
      "c:\\Users\\huuqu\\Academic\\RMIT\\Machine Learning\\Group Assignment\\data\\raw\\Furniture_Data\\Furniture_Data\\dressers\\Farmhouse\\output\n",
      "c:\\Users\\huuqu\\Academic\\RMIT\\Machine Learning\\Group Assignment\\data\\raw\\Furniture_Data\\Furniture_Data\\dressers\\Industrial\\output\n",
      "c:\\Users\\huuqu\\Academic\\RMIT\\Machine Learning\\Group Assignment\\data\\raw\\Furniture_Data\\Furniture_Data\\dressers\\Mediterranean\\output\n",
      "c:\\Users\\huuqu\\Academic\\RMIT\\Machine Learning\\Group Assignment\\data\\raw\\Furniture_Data\\Furniture_Data\\dressers\\Midcentury\\output\n",
      "c:\\Users\\huuqu\\Academic\\RMIT\\Machine Learning\\Group Assignment\\data\\raw\\Furniture_Data\\Furniture_Data\\dressers\\Modern\\output\n",
      "c:\\Users\\huuqu\\Academic\\RMIT\\Machine Learning\\Group Assignment\\data\\raw\\Furniture_Data\\Furniture_Data\\dressers\\Rustic\\output\n",
      "c:\\Users\\huuqu\\Academic\\RMIT\\Machine Learning\\Group Assignment\\data\\raw\\Furniture_Data\\Furniture_Data\\dressers\\Scandinavian\\output\n",
      "c:\\Users\\huuqu\\Academic\\RMIT\\Machine Learning\\Group Assignment\\data\\raw\\Furniture_Data\\Furniture_Data\\dressers\\Southwestern\\output\n",
      "c:\\Users\\huuqu\\Academic\\RMIT\\Machine Learning\\Group Assignment\\data\\raw\\Furniture_Data\\Furniture_Data\\dressers\\Traditional\\output\n",
      "c:\\Users\\huuqu\\Academic\\RMIT\\Machine Learning\\Group Assignment\\data\\raw\\Furniture_Data\\Furniture_Data\\dressers\\Transitional\\output\n",
      "c:\\Users\\huuqu\\Academic\\RMIT\\Machine Learning\\Group Assignment\\data\\raw\\Furniture_Data\\Furniture_Data\\dressers\\Tropical\\output\n",
      "c:\\Users\\huuqu\\Academic\\RMIT\\Machine Learning\\Group Assignment\\data\\raw\\Furniture_Data\\Furniture_Data\\dressers\\Victorian\\output\n",
      "c:\\Users\\huuqu\\Academic\\RMIT\\Machine Learning\\Group Assignment\\data\\raw\\Furniture_Data\\Furniture_Data\\lamps\\Asian\\output\n",
      "c:\\Users\\huuqu\\Academic\\RMIT\\Machine Learning\\Group Assignment\\data\\raw\\Furniture_Data\\Furniture_Data\\lamps\\Beach\\output\n",
      "c:\\Users\\huuqu\\Academic\\RMIT\\Machine Learning\\Group Assignment\\data\\raw\\Furniture_Data\\Furniture_Data\\lamps\\Contemporary\\output\n",
      "c:\\Users\\huuqu\\Academic\\RMIT\\Machine Learning\\Group Assignment\\data\\raw\\Furniture_Data\\Furniture_Data\\lamps\\Craftsman\\output\n",
      "c:\\Users\\huuqu\\Academic\\RMIT\\Machine Learning\\Group Assignment\\data\\raw\\Furniture_Data\\Furniture_Data\\lamps\\Eclectic\\output\n",
      "c:\\Users\\huuqu\\Academic\\RMIT\\Machine Learning\\Group Assignment\\data\\raw\\Furniture_Data\\Furniture_Data\\lamps\\Farmhouse\\output\n",
      "c:\\Users\\huuqu\\Academic\\RMIT\\Machine Learning\\Group Assignment\\data\\raw\\Furniture_Data\\Furniture_Data\\lamps\\Industrial\\output\n",
      "c:\\Users\\huuqu\\Academic\\RMIT\\Machine Learning\\Group Assignment\\data\\raw\\Furniture_Data\\Furniture_Data\\lamps\\Mediterranean\\output\n",
      "c:\\Users\\huuqu\\Academic\\RMIT\\Machine Learning\\Group Assignment\\data\\raw\\Furniture_Data\\Furniture_Data\\lamps\\Midcentury\\output\n",
      "c:\\Users\\huuqu\\Academic\\RMIT\\Machine Learning\\Group Assignment\\data\\raw\\Furniture_Data\\Furniture_Data\\lamps\\Modern\\output\n",
      "c:\\Users\\huuqu\\Academic\\RMIT\\Machine Learning\\Group Assignment\\data\\raw\\Furniture_Data\\Furniture_Data\\lamps\\Rustic\\output\n",
      "c:\\Users\\huuqu\\Academic\\RMIT\\Machine Learning\\Group Assignment\\data\\raw\\Furniture_Data\\Furniture_Data\\lamps\\Scandinavian\\output\n",
      "c:\\Users\\huuqu\\Academic\\RMIT\\Machine Learning\\Group Assignment\\data\\raw\\Furniture_Data\\Furniture_Data\\lamps\\Southwestern\\output\n",
      "c:\\Users\\huuqu\\Academic\\RMIT\\Machine Learning\\Group Assignment\\data\\raw\\Furniture_Data\\Furniture_Data\\lamps\\Traditional\\output\n",
      "c:\\Users\\huuqu\\Academic\\RMIT\\Machine Learning\\Group Assignment\\data\\raw\\Furniture_Data\\Furniture_Data\\lamps\\Transitional\\output\n",
      "c:\\Users\\huuqu\\Academic\\RMIT\\Machine Learning\\Group Assignment\\data\\raw\\Furniture_Data\\Furniture_Data\\lamps\\Tropical\\output\n",
      "c:\\Users\\huuqu\\Academic\\RMIT\\Machine Learning\\Group Assignment\\data\\raw\\Furniture_Data\\Furniture_Data\\lamps\\Victorian\\output\n",
      "c:\\Users\\huuqu\\Academic\\RMIT\\Machine Learning\\Group Assignment\\data\\raw\\Furniture_Data\\Furniture_Data\\sofas\\Asian\\output\n",
      "c:\\Users\\huuqu\\Academic\\RMIT\\Machine Learning\\Group Assignment\\data\\raw\\Furniture_Data\\Furniture_Data\\sofas\\Beach\\output\n",
      "c:\\Users\\huuqu\\Academic\\RMIT\\Machine Learning\\Group Assignment\\data\\raw\\Furniture_Data\\Furniture_Data\\sofas\\Contemporary\\output\n",
      "c:\\Users\\huuqu\\Academic\\RMIT\\Machine Learning\\Group Assignment\\data\\raw\\Furniture_Data\\Furniture_Data\\sofas\\Craftsman\\output\n",
      "c:\\Users\\huuqu\\Academic\\RMIT\\Machine Learning\\Group Assignment\\data\\raw\\Furniture_Data\\Furniture_Data\\sofas\\Eclectic\\output\n",
      "c:\\Users\\huuqu\\Academic\\RMIT\\Machine Learning\\Group Assignment\\data\\raw\\Furniture_Data\\Furniture_Data\\sofas\\Farmhouse\\output\n",
      "c:\\Users\\huuqu\\Academic\\RMIT\\Machine Learning\\Group Assignment\\data\\raw\\Furniture_Data\\Furniture_Data\\sofas\\Industrial\\output\n",
      "c:\\Users\\huuqu\\Academic\\RMIT\\Machine Learning\\Group Assignment\\data\\raw\\Furniture_Data\\Furniture_Data\\sofas\\Mediterranean\\output\n",
      "c:\\Users\\huuqu\\Academic\\RMIT\\Machine Learning\\Group Assignment\\data\\raw\\Furniture_Data\\Furniture_Data\\sofas\\Midcentury\\output\n",
      "c:\\Users\\huuqu\\Academic\\RMIT\\Machine Learning\\Group Assignment\\data\\raw\\Furniture_Data\\Furniture_Data\\sofas\\Modern\\output\n",
      "c:\\Users\\huuqu\\Academic\\RMIT\\Machine Learning\\Group Assignment\\data\\raw\\Furniture_Data\\Furniture_Data\\sofas\\Rustic\\output\n",
      "c:\\Users\\huuqu\\Academic\\RMIT\\Machine Learning\\Group Assignment\\data\\raw\\Furniture_Data\\Furniture_Data\\sofas\\Scandinavian\\output\n",
      "c:\\Users\\huuqu\\Academic\\RMIT\\Machine Learning\\Group Assignment\\data\\raw\\Furniture_Data\\Furniture_Data\\sofas\\Southwestern\\output\n",
      "c:\\Users\\huuqu\\Academic\\RMIT\\Machine Learning\\Group Assignment\\data\\raw\\Furniture_Data\\Furniture_Data\\sofas\\Traditional\\output\n",
      "c:\\Users\\huuqu\\Academic\\RMIT\\Machine Learning\\Group Assignment\\data\\raw\\Furniture_Data\\Furniture_Data\\sofas\\Transitional\\output\n",
      "c:\\Users\\huuqu\\Academic\\RMIT\\Machine Learning\\Group Assignment\\data\\raw\\Furniture_Data\\Furniture_Data\\sofas\\Tropical\\output\n",
      "c:\\Users\\huuqu\\Academic\\RMIT\\Machine Learning\\Group Assignment\\data\\raw\\Furniture_Data\\Furniture_Data\\sofas\\Victorian\\output\n",
      "c:\\Users\\huuqu\\Academic\\RMIT\\Machine Learning\\Group Assignment\\data\\raw\\Furniture_Data\\Furniture_Data\\tables\\Asian\\output\n",
      "c:\\Users\\huuqu\\Academic\\RMIT\\Machine Learning\\Group Assignment\\data\\raw\\Furniture_Data\\Furniture_Data\\tables\\Beach\\output\n",
      "c:\\Users\\huuqu\\Academic\\RMIT\\Machine Learning\\Group Assignment\\data\\raw\\Furniture_Data\\Furniture_Data\\tables\\Contemporary\\output\n",
      "c:\\Users\\huuqu\\Academic\\RMIT\\Machine Learning\\Group Assignment\\data\\raw\\Furniture_Data\\Furniture_Data\\tables\\Craftsman\\output\n",
      "c:\\Users\\huuqu\\Academic\\RMIT\\Machine Learning\\Group Assignment\\data\\raw\\Furniture_Data\\Furniture_Data\\tables\\Eclectic\\output\n",
      "c:\\Users\\huuqu\\Academic\\RMIT\\Machine Learning\\Group Assignment\\data\\raw\\Furniture_Data\\Furniture_Data\\tables\\Farmhouse\\output\n",
      "c:\\Users\\huuqu\\Academic\\RMIT\\Machine Learning\\Group Assignment\\data\\raw\\Furniture_Data\\Furniture_Data\\tables\\Industrial\\output\n",
      "c:\\Users\\huuqu\\Academic\\RMIT\\Machine Learning\\Group Assignment\\data\\raw\\Furniture_Data\\Furniture_Data\\tables\\Mediterranean\\output\n",
      "c:\\Users\\huuqu\\Academic\\RMIT\\Machine Learning\\Group Assignment\\data\\raw\\Furniture_Data\\Furniture_Data\\tables\\Midcentury\\output\n",
      "c:\\Users\\huuqu\\Academic\\RMIT\\Machine Learning\\Group Assignment\\data\\raw\\Furniture_Data\\Furniture_Data\\tables\\Modern\\output\n",
      "c:\\Users\\huuqu\\Academic\\RMIT\\Machine Learning\\Group Assignment\\data\\raw\\Furniture_Data\\Furniture_Data\\tables\\Rustic\\output\n",
      "c:\\Users\\huuqu\\Academic\\RMIT\\Machine Learning\\Group Assignment\\data\\raw\\Furniture_Data\\Furniture_Data\\tables\\Scandinavian\\output\n",
      "c:\\Users\\huuqu\\Academic\\RMIT\\Machine Learning\\Group Assignment\\data\\raw\\Furniture_Data\\Furniture_Data\\tables\\Southwestern\\output\n",
      "c:\\Users\\huuqu\\Academic\\RMIT\\Machine Learning\\Group Assignment\\data\\raw\\Furniture_Data\\Furniture_Data\\tables\\Traditional\\output\n",
      "c:\\Users\\huuqu\\Academic\\RMIT\\Machine Learning\\Group Assignment\\data\\raw\\Furniture_Data\\Furniture_Data\\tables\\Transitional\\output\n",
      "c:\\Users\\huuqu\\Academic\\RMIT\\Machine Learning\\Group Assignment\\data\\raw\\Furniture_Data\\Furniture_Data\\tables\\Tropical\\output\n",
      "c:\\Users\\huuqu\\Academic\\RMIT\\Machine Learning\\Group Assignment\\data\\raw\\Furniture_Data\\Furniture_Data\\tables\\Victorian\\output\n"
     ]
    }
   ],
   "source": [
    "# Keep track of processed directories\n",
    "processed_directories = set()\n",
    "\n",
    "for img_path in df_train[\"Path\"]:\n",
    "    # Extract directory name\n",
    "    directory = os.path.dirname(img_path)\n",
    "\n",
    "    # Check if directory has already been processed\n",
    "    if directory in processed_directories:\n",
    "        continue\n",
    "\n",
    "    # Add directory to the set of processed directories\n",
    "    processed_directories.add(directory)\n",
    "\n",
    "    # Remove the output folder if it exists\n",
    "    try:\n",
    "        output_dir = os.path.join(directory, \"output\")\n",
    "        output_dir = os.path.abspath(output_dir)\n",
    "        print(output_dir)\n",
    "        os.removedirs(output_dir)\n",
    "    except FileNotFoundError:\n",
    "        pass\n",
    "\n",
    "    leon.augment_images(directory)"
   ]
  }
 ],
 "metadata": {
  "kernelspec": {
   "display_name": "Python 3",
   "language": "python",
   "name": "python3"
  },
  "language_info": {
   "codemirror_mode": {
    "name": "ipython",
    "version": 3
   },
   "file_extension": ".py",
   "mimetype": "text/x-python",
   "name": "python",
   "nbconvert_exporter": "python",
   "pygments_lexer": "ipython3",
   "version": "3.12.2"
  }
 },
 "nbformat": 4,
 "nbformat_minor": 2
}
